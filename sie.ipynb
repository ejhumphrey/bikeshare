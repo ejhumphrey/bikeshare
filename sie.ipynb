{
 "metadata": {
  "name": "",
  "signature": "sha256:f65b0b7298beb9f6cb8c6700ebfba64a5e5ba11a9218deb095cc596ab1e0097a"
 },
 "nbformat": 3,
 "nbformat_minor": 0,
 "worksheets": [
  {
   "cells": [
    {
     "cell_type": "code",
     "collapsed": false,
     "input": [],
     "language": "python",
     "metadata": {},
     "outputs": []
    }
   ],
   "metadata": {}
  }
 ]
}
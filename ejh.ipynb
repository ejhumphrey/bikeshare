{
 "metadata": {
  "name": "",
  "signature": "sha256:65259ab22bf672614d60ad69f9893f1b6a8105460490c16b5707c0ce3e46b11f"
 },
 "nbformat": 3,
 "nbformat_minor": 0,
 "worksheets": []
}